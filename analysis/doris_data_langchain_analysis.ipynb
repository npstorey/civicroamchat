{
 "cells": [
  {
   "cell_type": "code",
   "execution_count": 23,
   "metadata": {},
   "outputs": [
    {
     "data": {
      "text/plain": [
       "131072"
      ]
     },
     "execution_count": 23,
     "metadata": {},
     "output_type": "execute_result"
    }
   ],
   "source": [
    "import os\n",
    "from dotenv import load_dotenv\n",
    "import json\n",
    "import csv\n",
    "csv.field_size_limit(1000000)"
   ]
  },
  {
   "cell_type": "code",
   "execution_count": 24,
   "metadata": {},
   "outputs": [],
   "source": [
    "load_dotenv()  # This will load the environment variables from your .env file\n",
    "os.environ[\"OPENAI_API_KEY\"] = os.getenv(\"OPENAI_API_KEY\")"
   ]
  },
  {
   "cell_type": "code",
   "execution_count": 25,
   "metadata": {},
   "outputs": [],
   "source": [
    "from langchain.document_loaders.csv_loader import CSVLoader\n",
    "\n",
    "csv_file_path = \"../data/Cleaned_Text/doris_cleaned_texts.csv\"\n",
    "loader = CSVLoader(file_path=csv_file_path)\n",
    "\n",
    "documents = loader.load()"
   ]
  },
  {
   "cell_type": "code",
   "execution_count": 28,
   "metadata": {},
   "outputs": [
    {
     "name": "stdout",
     "output_type": "stream",
     "text": [
      "chunked_document length: 70\n",
      "chunked_document length: 27\n",
      "chunked_document length: 214\n",
      "chunked_document length: 29\n",
      "chunked_document length: 27\n",
      "chunked_document length: 37\n",
      "chunked_document length: 24\n",
      "chunked_document length: 145\n",
      "chunked_document length: 84\n",
      "chunked_document length: 47\n",
      "chunked_document length: 50\n",
      "chunked_document length: 146\n",
      "chunked_document length: 110\n",
      "chunked_document length: 928\n",
      "chunked_document length: 184\n",
      "chunked_document length: 35\n",
      "chunked_document length: 31\n",
      "chunked_document length: 39\n"
     ]
    }
   ],
   "source": [
    "# Split documents into chunks\n",
    "text_splitter = RecursiveCharacterTextSplitter(chunk_size=1000, chunk_overlap=0)\n",
    "\n",
    "chunked_documents = []\n",
    "for document in documents:\n",
    "    # Chunk the document\n",
    "    texts = text_splitter.split_documents([document])\n",
    "    # Add the chunks to chunked_documents, which is a list of lists\n",
    "    chunked_documents.append(texts)\n",
    "    print(f\"chunked_document length: {len(texts)}\")"
   ]
  },
  {
   "cell_type": "code",
   "execution_count": 31,
   "metadata": {},
   "outputs": [
    {
     "name": "stdout",
     "output_type": "stream",
     "text": [
      "Collecting pinecone-client\n",
      "  Downloading pinecone_client-2.2.1-py3-none-any.whl (177 kB)\n",
      "\u001b[2K     \u001b[90m━━━━━━━━━━━━━━━━━━━━━━━━━━━━━━━━━━━━━━━\u001b[0m \u001b[32m177.2/177.2 kB\u001b[0m \u001b[31m4.2 MB/s\u001b[0m eta \u001b[36m0:00:00\u001b[0m00:01\u001b[0m\n",
      "\u001b[?25hCollecting loguru>=0.5.0\n",
      "  Downloading loguru-0.6.0-py3-none-any.whl (58 kB)\n",
      "\u001b[2K     \u001b[90m━━━━━━━━━━━━━━━━━━━━━━━━━━━━━━━━━━━━━━━━\u001b[0m \u001b[32m58.3/58.3 kB\u001b[0m \u001b[31m6.7 MB/s\u001b[0m eta \u001b[36m0:00:00\u001b[0m\n",
      "\u001b[?25hRequirement already satisfied: numpy in /Users/nathanstorey/Documents/Visual Studio Code/civicroamchat/venv/lib/python3.9/site-packages (from pinecone-client) (1.24.2)\n",
      "Requirement already satisfied: typing-extensions>=3.7.4 in /Users/nathanstorey/Documents/Visual Studio Code/civicroamchat/venv/lib/python3.9/site-packages (from pinecone-client) (4.5.0)\n",
      "Requirement already satisfied: tqdm>=4.64.1 in /Users/nathanstorey/Documents/Visual Studio Code/civicroamchat/venv/lib/python3.9/site-packages (from pinecone-client) (4.65.0)\n",
      "Collecting dnspython>=2.0.0\n",
      "  Downloading dnspython-2.3.0-py3-none-any.whl (283 kB)\n",
      "\u001b[2K     \u001b[90m━━━━━━━━━━━━━━━━━━━━━━━━━━━━━━━━━━━━━━\u001b[0m \u001b[32m283.7/283.7 kB\u001b[0m \u001b[31m13.9 MB/s\u001b[0m eta \u001b[36m0:00:00\u001b[0m\n",
      "\u001b[?25hRequirement already satisfied: python-dateutil>=2.5.3 in /Users/nathanstorey/Documents/Visual Studio Code/civicroamchat/venv/lib/python3.9/site-packages (from pinecone-client) (2.8.2)\n",
      "Requirement already satisfied: urllib3>=1.21.1 in /Users/nathanstorey/Documents/Visual Studio Code/civicroamchat/venv/lib/python3.9/site-packages (from pinecone-client) (1.26.15)\n",
      "Requirement already satisfied: requests>=2.19.0 in /Users/nathanstorey/Documents/Visual Studio Code/civicroamchat/venv/lib/python3.9/site-packages (from pinecone-client) (2.28.2)\n",
      "Requirement already satisfied: pyyaml>=5.4 in /Users/nathanstorey/Documents/Visual Studio Code/civicroamchat/venv/lib/python3.9/site-packages (from pinecone-client) (6.0)\n",
      "Requirement already satisfied: six>=1.5 in /Users/nathanstorey/Documents/Visual Studio Code/civicroamchat/venv/lib/python3.9/site-packages (from python-dateutil>=2.5.3->pinecone-client) (1.16.0)\n",
      "Requirement already satisfied: certifi>=2017.4.17 in /Users/nathanstorey/Documents/Visual Studio Code/civicroamchat/venv/lib/python3.9/site-packages (from requests>=2.19.0->pinecone-client) (2022.12.7)\n",
      "Requirement already satisfied: charset-normalizer<4,>=2 in /Users/nathanstorey/Documents/Visual Studio Code/civicroamchat/venv/lib/python3.9/site-packages (from requests>=2.19.0->pinecone-client) (3.1.0)\n",
      "Requirement already satisfied: idna<4,>=2.5 in /Users/nathanstorey/Documents/Visual Studio Code/civicroamchat/venv/lib/python3.9/site-packages (from requests>=2.19.0->pinecone-client) (3.4)\n",
      "Installing collected packages: loguru, dnspython, pinecone-client\n",
      "Successfully installed dnspython-2.3.0 loguru-0.6.0 pinecone-client-2.2.1\n"
     ]
    }
   ],
   "source": [
    "!pip install pinecone-client"
   ]
  },
  {
   "cell_type": "code",
   "execution_count": 33,
   "metadata": {},
   "outputs": [
    {
     "name": "stdout",
     "output_type": "stream",
     "text": [
      "Collecting tiktoken\n",
      "  Downloading tiktoken-0.3.3-cp39-cp39-macosx_11_0_arm64.whl (706 kB)\n",
      "\u001b[2K     \u001b[90m━━━━━━━━━━━━━━━━━━━━━━━━━━━━━━━━━━━━━━━\u001b[0m \u001b[32m706.8/706.8 kB\u001b[0m \u001b[31m7.0 MB/s\u001b[0m eta \u001b[36m0:00:00\u001b[0ma \u001b[36m0:00:01\u001b[0m\n",
      "\u001b[?25hRequirement already satisfied: regex>=2022.1.18 in /Users/nathanstorey/Documents/Visual Studio Code/civicroamchat/venv/lib/python3.9/site-packages (from tiktoken) (2023.3.23)\n",
      "Requirement already satisfied: requests>=2.26.0 in /Users/nathanstorey/Documents/Visual Studio Code/civicroamchat/venv/lib/python3.9/site-packages (from tiktoken) (2.28.2)\n",
      "Requirement already satisfied: certifi>=2017.4.17 in /Users/nathanstorey/Documents/Visual Studio Code/civicroamchat/venv/lib/python3.9/site-packages (from requests>=2.26.0->tiktoken) (2022.12.7)\n",
      "Requirement already satisfied: idna<4,>=2.5 in /Users/nathanstorey/Documents/Visual Studio Code/civicroamchat/venv/lib/python3.9/site-packages (from requests>=2.26.0->tiktoken) (3.4)\n",
      "Requirement already satisfied: urllib3<1.27,>=1.21.1 in /Users/nathanstorey/Documents/Visual Studio Code/civicroamchat/venv/lib/python3.9/site-packages (from requests>=2.26.0->tiktoken) (1.26.15)\n",
      "Requirement already satisfied: charset-normalizer<4,>=2 in /Users/nathanstorey/Documents/Visual Studio Code/civicroamchat/venv/lib/python3.9/site-packages (from requests>=2.26.0->tiktoken) (3.1.0)\n",
      "Installing collected packages: tiktoken\n",
      "Successfully installed tiktoken-0.3.3\n"
     ]
    }
   ],
   "source": [
    "!pip install tiktoken"
   ]
  },
  {
   "cell_type": "code",
   "execution_count": 35,
   "metadata": {},
   "outputs": [],
   "source": [
    "from langchain.vectorstores import Chroma, Pinecone\n",
    "from langchain.embeddings.openai import OpenAIEmbeddings\n",
    "import pinecone\n",
    "import os\n",
    "from dotenv import load_dotenv\n",
    "\n",
    "# Load API keys from the .env file\n",
    "load_dotenv()\n",
    "\n",
    "OPENAI_API_KEY = os.environ.get('OPENAI_API_KEY')\n",
    "PINECONE_API_KEY = os.environ.get('PINECONE_API_KEY')\n",
    "\n",
    "embeddings = OpenAIEmbeddings(openai_api_key=OPENAI_API_KEY)\n",
    "\n",
    "# Initialize Pinecone\n",
    "pinecone.init(api_key=PINECONE_API_KEY)\n",
    "\n",
    "index_name = \"doris-project-vectors\"\n",
    "# Upsert annual reports to Pinecone via LangChain.\n",
    "# There's likely a better way to do this instead of Pinecone.from_texts()\n",
    "for chunks in chunked_documents:\n",
    "    Pinecone.from_texts([chunk.page_content for chunk in chunks], embeddings, index_name=index_name)"
   ]
  },
  {
   "cell_type": "code",
   "execution_count": 37,
   "metadata": {},
   "outputs": [],
   "source": [
    "# Retrieve the document vector embeddings from Pinecone\n",
    "vectorstore = Pinecone.from_existing_index(index_name=\"doris-project-vectors\", embedding=embeddings)"
   ]
  },
  {
   "cell_type": "code",
   "execution_count": 38,
   "metadata": {},
   "outputs": [],
   "source": [
    "from langchain.llms import OpenAI\n",
    "from langchain.chains.question_answering import load_qa_chain\n",
    "\n",
    "llm = OpenAI(temperature=0, openai_api_key=OPENAI_API_KEY)\n",
    "chain = load_qa_chain(llm)"
   ]
  },
  {
   "cell_type": "code",
   "execution_count": 39,
   "metadata": {},
   "outputs": [
    {
     "name": "stdout",
     "output_type": "stream",
     "text": [
      " The most recent Vision report from NYC is from 2018.\n"
     ]
    }
   ],
   "source": [
    "query = \"What year is NYC's most recent Vision report from?\"\n",
    "docs = vectorstore.similarity_search(query, include_metadata=True)\n",
    "answer = chain.run(input_documents=docs, question=query)\n",
    "print(answer)"
   ]
  },
  {
   "cell_type": "code",
   "execution_count": 40,
   "metadata": {},
   "outputs": [
    {
     "name": "stdout",
     "output_type": "stream",
     "text": [
      " The main goals of Vision Zero are to eliminate traffic fatalities and crash-related serious injuries by 2024 through safer street designs, engineering, enforcement, deterrence of traffic safety violations, and education and outreach efforts to encourage safer choices by drivers, cyclists, and pedestrians.\n"
     ]
    }
   ],
   "source": [
    "query = \"Can you summarize the main goals of Vision Zero?\"\n",
    "docs = vectorstore.similarity_search(query, include_metadata=True)\n",
    "answer = chain.run(input_documents=docs, question=query)\n",
    "print(answer)"
   ]
  },
  {
   "cell_type": "code",
   "execution_count": 41,
   "metadata": {},
   "outputs": [
    {
     "name": "stdout",
     "output_type": "stream",
     "text": [
      " DOT is encouraging off hour deliveries with a focus on large buildings in areas with high pedestrian and bicycle activity. They are also working with the trucking industry to pilot low-noise truck technologies and deploy a network of noise monitors and cameras to monitor off hour delivery activity.\n"
     ]
    }
   ],
   "source": [
    "query = \"What is DOT doing about off hour deliveries?\"\n",
    "docs = vectorstore.similarity_search(query, include_metadata=True)\n",
    "answer = chain.run(input_documents=docs, question=query)\n",
    "print(answer)"
   ]
  },
  {
   "cell_type": "code",
   "execution_count": 42,
   "metadata": {},
   "outputs": [
    {
     "name": "stdout",
     "output_type": "stream",
     "text": [
      " Manhattan, Downtown Brooklyn, and Jamaica.\n"
     ]
    }
   ],
   "source": [
    "query = \"Which neighborhoods is DOT focusing its work on off hour deliveries?\"\n",
    "docs = vectorstore.similarity_search(query, include_metadata=True)\n",
    "answer = chain.run(input_documents=docs, question=query)\n",
    "print(answer)"
   ]
  },
  {
   "cell_type": "code",
   "execution_count": 43,
   "metadata": {},
   "outputs": [
    {
     "name": "stdout",
     "output_type": "stream",
     "text": [
      " The main recommendations from the 2016 report of the NYC electric vehicle advisory committee are to implement a grant to encourage workplace charging, improve data collection, and update on workplace charging.\n"
     ]
    }
   ],
   "source": [
    "query = \"what are the main recommendations from the 2016 report of the NYC electric vehicle advisory committee?\"\n",
    "docs = vectorstore.similarity_search(query, include_metadata=True)\n",
    "answer = chain.run(input_documents=docs, question=query)\n",
    "print(answer)"
   ]
  },
  {
   "cell_type": "code",
   "execution_count": 44,
   "metadata": {},
   "outputs": [
    {
     "name": "stdout",
     "output_type": "stream",
     "text": [
      " The DOT report suggests allocating more street space to walking, biking, and buses, exploring new sensor and camera technology, curb regulations and pricing strategies to better manage streets and curb space, adapting proactively to shared-use mobility services and autonomous vehicles, and developing videos on projects and priorities.\n"
     ]
    }
   ],
   "source": [
    "query = \"what are the most innovative ideas from the dot report?\"\n",
    "docs = vectorstore.similarity_search(query, include_metadata=True)\n",
    "answer = chain.run(input_documents=docs, question=query)\n",
    "print(answer)"
   ]
  },
  {
   "cell_type": "code",
   "execution_count": 45,
   "metadata": {},
   "outputs": [
    {
     "name": "stdout",
     "output_type": "stream",
     "text": [
      " The most innovative ideas from the DOT reports include: 1) Partnering with employees to identify key safety issues (Employee Safety Survey); 2) Using data to better understand risks to employees (Employee Safety Survey); 3) Providing comprehensive training programs for all staff (Strategic Plan 2016); 4) Creating a searchable in-house digital warehouse of public outreach materials (Strategic Plan 2016); 5) Hiring a senior economist to help quantify the benefits and costs of current and proposed initiatives (Strategic Plan 2016); 6) Incorporating triple bottom line social-economic-environmental accounting into appraisals of agency projects and initiatives (Strategic Plan 2016); 7) Initiating development of an online map of agency projects (Strategic Plan 2016).\n"
     ]
    }
   ],
   "source": [
    "query = \"what are the most innovative ideas from the dot reports? Mention the names of the reports that each idea comes from.\"\n",
    "docs = vectorstore.similarity_search(query, include_metadata=True)\n",
    "answer = chain.run(input_documents=docs, question=query)\n",
    "print(answer)"
   ]
  },
  {
   "cell_type": "code",
   "execution_count": 46,
   "metadata": {},
   "outputs": [
    {
     "name": "stdout",
     "output_type": "stream",
     "text": [
      " W 23rd St & Avenue of the Americas (Manhattan) - 5; W 57th St & 10th Ave (Manhattan) - 5; Bath Ave & Bay Pkwy (Brooklyn) - 4; Bruckner & E 138th St/Bruckner Blvd (Bronx) - 4; E 233rd St & Grenada Pl/Baychester Ave (Bronx) - 4.\n"
     ]
    }
   ],
   "source": [
    "query = \"what were the top 5 pedestrian crash intersections in 2014?\"\n",
    "docs = vectorstore.similarity_search(query, include_metadata=True)\n",
    "answer = chain.run(input_documents=docs, question=query)\n",
    "print(answer)"
   ]
  },
  {
   "cell_type": "code",
   "execution_count": 47,
   "metadata": {},
   "outputs": [
    {
     "name": "stdout",
     "output_type": "stream",
     "text": [
      " DOT has implemented Vision Zero capital redesigns on major streets including the Grand Concourse in the Bronx. They have also conducted targeted outreach in 500 schools each year to educate students about protecting themselves as safe pedestrians and working with their families for safer school zones. They have also completed 50 street improvement projects that enhanced safety by reengineering intersections and corridors.\n"
     ]
    }
   ],
   "source": [
    "query = \"what specific actions has dot taken to reduce pedestrian crashes in bronx community board 6?\"\n",
    "docs = vectorstore.similarity_search(query, include_metadata=True)\n",
    "answer = chain.run(input_documents=docs, question=query)\n",
    "print(answer)"
   ]
  },
  {
   "cell_type": "code",
   "execution_count": 48,
   "metadata": {},
   "outputs": [
    {
     "name": "stdout",
     "output_type": "stream",
     "text": [
      " According to the Vision Zero Year Three Report, DOT has implemented pedestrian safety improvements on the Grand Concourse in Bronx Community Board 6. Additionally, DOT has conducted targeted outreach in 500 schools each year educating students about protecting themselves as safe pedestrians and working with their families for safer school zones. This information can also be found in the Vision Zero Year Three Report.\n"
     ]
    }
   ],
   "source": [
    "query = \"what specific actions has dot taken to reduce pedestrian crashes in bronx community board 6? For each action, mention the name of the report that it comes from.\"\n",
    "docs = vectorstore.similarity_search(query, include_metadata=True)\n",
    "answer = chain.run(input_documents=docs, question=query)\n",
    "print(answer)"
   ]
  },
  {
   "cell_type": "code",
   "execution_count": 49,
   "metadata": {},
   "outputs": [
    {
     "name": "stdout",
     "output_type": "stream",
     "text": [
      " 448350\n"
     ]
    }
   ],
   "source": [
    "query = \"How many total citibike trips were there in december 2013?\"\n",
    "docs = vectorstore.similarity_search(query, include_metadata=True)\n",
    "answer = chain.run(input_documents=docs, question=query)\n",
    "print(answer)"
   ]
  },
  {
   "cell_type": "code",
   "execution_count": 50,
   "metadata": {},
   "outputs": [
    {
     "name": "stdout",
     "output_type": "stream",
     "text": [
      " According to the reports, as of March of 2010 ferry schedules are offered in Braille and in six foreign languages such as Italian, Spanish, Chinese, Haitian, Korean, and Russian. In March of 2011, other documents were made available in Braille including ferry safety announcements and fire/emergency procedures. Additionally, as of September 2017, lower level boarding is now available to all passengers. Furthermore, DOT budgeted 14 million for fiscal year 2008 towards adapting city-owned commuter ferry facilities to comply with Chapter 7 of Title 19 of the Administrative Code. All construction was completed by year end 2012.\n"
     ]
    }
   ],
   "source": [
    "query = \"what is being done to increase accessability on ferries? cite the reports you are using.\"\n",
    "docs = vectorstore.similarity_search(query, include_metadata=True)\n",
    "answer = chain.run(input_documents=docs, question=query)\n",
    "print(answer)"
   ]
  },
  {
   "cell_type": "code",
   "execution_count": null,
   "metadata": {},
   "outputs": [],
   "source": []
  }
 ],
 "metadata": {
  "kernelspec": {
   "display_name": "venv",
   "language": "python",
   "name": "python3"
  },
  "language_info": {
   "codemirror_mode": {
    "name": "ipython",
    "version": 3
   },
   "file_extension": ".py",
   "mimetype": "text/x-python",
   "name": "python",
   "nbconvert_exporter": "python",
   "pygments_lexer": "ipython3",
   "version": "3.9.16"
  },
  "orig_nbformat": 4
 },
 "nbformat": 4,
 "nbformat_minor": 2
}
