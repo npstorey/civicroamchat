{
 "cells": [
  {
   "cell_type": "code",
   "execution_count": 1,
   "metadata": {},
   "outputs": [],
   "source": [
    "from selenium import webdriver\n",
    "from selenium.webdriver.common.by import By\n",
    "from selenium.webdriver.firefox.options import Options\n",
    "from selenium.webdriver.support.ui import WebDriverWait\n",
    "from selenium.webdriver.support import expected_conditions as EC\n",
    "from selenium.common.exceptions import TimeoutException\n",
    "from selenium.common.exceptions import NoSuchElementException\n",
    "from selenium.webdriver.common.by import By"
   ]
  },
  {
   "cell_type": "code",
   "execution_count": 2,
   "metadata": {},
   "outputs": [
    {
     "name": "stderr",
     "output_type": "stream",
     "text": [
      "/var/folders/m3/w88w45c95kqgk_44kfm437t00000gn/T/ipykernel_2606/4250430970.py:2: DeprecationWarning: headless property is deprecated, instead use add_argument('-headless')\n",
      "  options.headless = True\n",
      "/var/folders/m3/w88w45c95kqgk_44kfm437t00000gn/T/ipykernel_2606/4250430970.py:4: DeprecationWarning: executable_path has been deprecated, please pass in a Service object\n",
      "  driver = webdriver.Firefox(executable_path='/usr/bin/geckodriver', options=options)\n"
     ]
    }
   ],
   "source": [
    "options = Options()\n",
    "options.headless = True\n",
    "\n",
    "driver = webdriver.Firefox(executable_path='/usr/bin/geckodriver', options=options)"
   ]
  },
  {
   "cell_type": "code",
   "execution_count": 3,
   "metadata": {},
   "outputs": [],
   "source": [
    "import csv\n",
    "import os\n",
    "import requests\n",
    "from bs4 import BeautifulSoup"
   ]
  },
  {
   "cell_type": "code",
   "execution_count": 4,
   "metadata": {},
   "outputs": [],
   "source": [
    "def fetch_page(url):\n",
    "    response = requests.get(url)\n",
    "    if response.status_code == 200:\n",
    "        return response.text\n",
    "    return None"
   ]
  },
  {
   "cell_type": "code",
   "execution_count": 5,
   "metadata": {},
   "outputs": [],
   "source": [
    "def extract_documents(html):\n",
    "    soup = BeautifulSoup(html, 'html.parser')\n",
    "    documents = soup.find_all(class_='document')\n",
    "    return documents"
   ]
  },
  {
   "cell_type": "code",
   "execution_count": 6,
   "metadata": {},
   "outputs": [],
   "source": [
    "def scrape_page(url):\n",
    "    try:\n",
    "        driver.get(url)\n",
    "        documents = driver.find_elements(By.CSS_SELECTOR, '.document')\n",
    "        document_info_list = [extract_document_info(doc, driver) for doc in documents]\n",
    "        print(f\"Extracted {len(document_info_list)} documents\")\n",
    "        return document_info_list\n",
    "    except Exception as e:\n",
    "        print(f\"Error: {str(e)}\")\n",
    "        return []"
   ]
  },
  {
   "cell_type": "code",
   "execution_count": 7,
   "metadata": {},
   "outputs": [],
   "source": [
    "def extract_document_info(document, driver):\n",
    "    try:\n",
    "        title_link = document.find_element(By.CSS_SELECTOR, 'a')\n",
    "        title = title_link.text.strip()\n",
    "        link = title_link.get_attribute('href')\n",
    "        download_link = document.find_element(By.CSS_SELECTOR, '.underline-link')\n",
    "        download_url = download_link.get_attribute('href')\n",
    "        print(f\"Extracted document: {title}\")\n",
    "        return {\"title\": title, \"link\": link, \"download_url\": download_url}\n",
    "    except Exception as e:\n",
    "        print(f\"Error: {str(e)}\")\n",
    "        return None"
   ]
  },
  {
   "cell_type": "code",
   "execution_count": 8,
   "metadata": {},
   "outputs": [],
   "source": [
    "total_pages = 2\n",
    "base_url = \"https://a860-gpp.nyc.gov/catalog?page={page_number}&additional_creators=&agency=&all_fields=&associated_place=&borough=&calendar_year=&community_board_district=&date_published=&description=&f%5Bagency_sim%5D%5B%5D=Transportation%2C+Department+of+%28DOT%29&f_inclusive%5Breport_type_sim%5D%5B%5D=Report&fiscal_year=&language=&locale=en&op=AND&report_type=&required_report_name=&school_district=&search_field=advanced&sort=score+desc%2C+date_published_ssi+desc&sub_title=&subject=&title=\""
   ]
  },
  {
   "cell_type": "code",
   "execution_count": 9,
   "metadata": {},
   "outputs": [
    {
     "name": "stdout",
     "output_type": "stream",
     "text": [
      "Extracted document: Vision Zero Year Four Report\n",
      "Extracted document: Vision Zero Accomplishments Report\n",
      "Extracted document: Accessible Waterborne Commuter Services\n",
      "Extracted document: Safer Cycling, Bicycle Ridership and Safety in New York City\n",
      "Extracted document: Performance Indicators Report\n",
      "Extracted document: Brooklyn Bridge Promenade Report\n",
      "Extracted document: Bike Share Usage Data Report - Q3 2017\n",
      "Extracted document: Barnes Dance Study\n",
      "Extracted document: Coordinated Street Furniture Franchise Year 11 Update\n",
      "Extracted document: Automated speed enforcement program report\n",
      "Extracted 10 documents\n",
      "Scraped page 1\n",
      "Extracted document: Bike Share Usage Data Report - Q2 2017\n",
      "Extracted document: Neighborhood Slow Zones Report\n",
      "Extracted document: Vision Zero Year Three Report\n",
      "Extracted document: Vision Zero Year Three Report\n",
      "Extracted document: Accessible Water Borne Commuter Services Report\n",
      "Extracted document: Springfield Gardens JFK Transportation Study\n",
      "Extracted document: Bridge and Tunnel Report\n",
      "Extracted document: 20 Highest Crash Location Report\n",
      "Extracted document: Electric Vehicle Advisory Committee Report of Recommendations\n",
      "Extracted document: Strategic plan 2016\n",
      "Extracted 10 documents\n",
      "Scraped page 2\n",
      "Total documents: 20\n"
     ]
    }
   ],
   "source": [
    "all_documents = []\n",
    "for page_number in range(1, total_pages + 1):\n",
    "    page_url = base_url.format(page_number=page_number)\n",
    "    document_info_list = scrape_page(page_url)\n",
    "    all_documents.extend([doc for doc in document_info_list if doc is not None])\n",
    "    print(f\"Scraped page {page_number}\")\n",
    "\n",
    "print(f\"Total documents: {len(all_documents)}\")"
   ]
  },
  {
   "cell_type": "code",
   "execution_count": 10,
   "metadata": {},
   "outputs": [],
   "source": [
    "def get_pdf_link(document_url):\n",
    "    response = requests.get(document_url)\n",
    "    soup = BeautifulSoup(response.content, 'html.parser')\n",
    "    pdf_links = soup.find_all('a', href=True)\n",
    "\n",
    "    for link in pdf_links:\n",
    "        if '/downloads/' in link['href']:\n",
    "            return link['href']\n",
    "\n",
    "    return None"
   ]
  },
  {
   "cell_type": "code",
   "execution_count": 11,
   "metadata": {},
   "outputs": [],
   "source": [
    "def download_file(url, folder, file_name):\n",
    "    base_url = \"https://a860-gpp.nyc.gov\"\n",
    "    if not url.startswith(\"http\"):\n",
    "        url = base_url + url\n",
    "    response = requests.get(url)\n",
    "    file_path = os.path.join(folder, file_name)\n",
    "\n",
    "    with open(file_path, 'wb') as file:\n",
    "        file.write(response.content)"
   ]
  },
  {
   "cell_type": "code",
   "execution_count": 12,
   "metadata": {},
   "outputs": [],
   "source": [
    "destination_folder = \"data/Downloaded_Documents\"\n",
    "\n",
    "# Create the destination folder if it doesn't exist\n",
    "os.makedirs(destination_folder, exist_ok=True)\n",
    "\n",
    "with open('data/documents.csv', mode='w', newline='', encoding='utf-8') as csv_file:\n",
    "    fieldnames = ['title', 'link', 'download_url']\n",
    "    writer = csv.DictWriter(csv_file, fieldnames=fieldnames)\n",
    "    writer.writeheader()\n",
    "    \n",
    "    for document in all_documents:\n",
    "        if document:\n",
    "            unique_id = document['link'].split('/')[-2]\n",
    "            download_url = get_pdf_link(document['link'])\n",
    "            document['download_url'] = download_url\n",
    "            writer.writerow(document)\n",
    "\n",
    "            if download_url:\n",
    "                file_name = f\"DORIS_{document['title'].replace(' ', '_')}_{unique_id}.pdf\"\n",
    "                download_file(download_url, destination_folder, file_name)"
   ]
  }
 ],
 "metadata": {
  "kernelspec": {
   "display_name": "Python 3",
   "language": "python",
   "name": "python3"
  },
  "language_info": {
   "codemirror_mode": {
    "name": "ipython",
    "version": 3
   },
   "file_extension": ".py",
   "mimetype": "text/x-python",
   "name": "python",
   "nbconvert_exporter": "python",
   "pygments_lexer": "ipython3",
   "version": "3.9.2"
  },
  "orig_nbformat": 4
 },
 "nbformat": 4,
 "nbformat_minor": 2
}
