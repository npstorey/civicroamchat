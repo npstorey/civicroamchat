{
 "cells": [
  {
   "cell_type": "code",
   "execution_count": 1,
   "metadata": {},
   "outputs": [],
   "source": [
    "import os\n",
    "import pytesseract\n",
    "from PIL import Image\n",
    "from pdf2image import convert_from_path\n",
    "import glob"
   ]
  },
  {
   "cell_type": "code",
   "execution_count": 2,
   "metadata": {},
   "outputs": [],
   "source": [
    "def pdf_to_text(pdf_path):\n",
    "    # Convert the PDF pages to images\n",
    "    pages = convert_from_path(pdf_path)\n",
    "\n",
    "    # Perform OCR on the images\n",
    "    extracted_text = \"\"\n",
    "    for page in pages:\n",
    "        text = pytesseract.image_to_string(page)\n",
    "        extracted_text += text + \"\\n\"\n",
    "\n",
    "    return extracted_text\n"
   ]
  },
  {
   "cell_type": "code",
   "execution_count": 6,
   "metadata": {},
   "outputs": [
    {
     "name": "stdout",
     "output_type": "stream",
     "text": [
      "Extracted text from /Users/nathanstorey/Documents/Visual Studio Code/civicroamchat/data/OCR_Required/DORIS_Accessible_Waterborne_Commuter_Services_nyc_government_publications.pdf saved to /Users/nathanstorey/Documents/Visual Studio Code/civicroamchat/data/OCR_Performed/DORIS_Accessible_Waterborne_Commuter_Services_nyc_government_publications.txt\n",
      "Extracted text from /Users/nathanstorey/Documents/Visual Studio Code/civicroamchat/data/OCR_Required/DORIS_Coordinated_Street_Furniture_Franchise_Year_11_Update_nyc_government_publications.pdf saved to /Users/nathanstorey/Documents/Visual Studio Code/civicroamchat/data/OCR_Performed/DORIS_Coordinated_Street_Furniture_Franchise_Year_11_Update_nyc_government_publications.txt\n",
      "Extracted text from /Users/nathanstorey/Documents/Visual Studio Code/civicroamchat/data/OCR_Required/DORIS_Accessible_Water_Borne_Commuter_Services_Report_nyc_government_publications.pdf saved to /Users/nathanstorey/Documents/Visual Studio Code/civicroamchat/data/OCR_Performed/DORIS_Accessible_Water_Borne_Commuter_Services_Report_nyc_government_publications.txt\n"
     ]
    }
   ],
   "source": [
    "# Use the function on all PDF files in the OCR_Required folder\n",
    "notebook_directory = os.getcwd()\n",
    "project_directory = os.path.dirname(notebook_directory)\n",
    "data_folder = os.path.join(project_directory, 'data')\n",
    "pdf_folder = os.path.join(data_folder, 'OCR_Required')\n",
    "ocr_performed_folder = os.path.join(data_folder, 'OCR_Performed')\n",
    "\n",
    "# Create the OCR_Performed folder if it doesn't exist\n",
    "os.makedirs(ocr_performed_folder, exist_ok=True)\n",
    "\n",
    "pdf_files = glob.glob(os.path.join(pdf_folder, '*.pdf'))\n",
    "\n",
    "for pdf_file in pdf_files:\n",
    "    pdf_path = pdf_file\n",
    "    extracted_text = pdf_to_text(pdf_path)\n",
    "    \n",
    "    # Save the extracted text to a separate file in the OCR_Performed folder\n",
    "    output_file_name = os.path.splitext(os.path.basename(pdf_file))[0] + \".txt\"\n",
    "    output_file_path = os.path.join(ocr_performed_folder, output_file_name)\n",
    "    \n",
    "    with open(output_file_path, 'w', encoding='utf-8') as output_file:\n",
    "        output_file.write(extracted_text)\n",
    "    \n",
    "    print(f\"Extracted text from {pdf_file} saved to {output_file_path}\")\n"
   ]
  }
 ],
 "metadata": {
  "kernelspec": {
   "display_name": "venv",
   "language": "python",
   "name": "python3"
  },
  "language_info": {
   "codemirror_mode": {
    "name": "ipython",
    "version": 3
   },
   "file_extension": ".py",
   "mimetype": "text/x-python",
   "name": "python",
   "nbconvert_exporter": "python",
   "pygments_lexer": "ipython3",
   "version": "3.9.2"
  },
  "orig_nbformat": 4
 },
 "nbformat": 4,
 "nbformat_minor": 2
}
