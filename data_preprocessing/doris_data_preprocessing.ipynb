{
 "cells": [
  {
   "cell_type": "code",
   "execution_count": 3,
   "metadata": {},
   "outputs": [],
   "source": [
    "import os\n",
    "import pdfplumber\n",
    "import shutil\n",
    "from PyPDF2 import PdfReader"
   ]
  },
  {
   "cell_type": "code",
   "execution_count": 4,
   "metadata": {},
   "outputs": [],
   "source": [
    "current_directory = os.getcwd()\n",
    "pdf_folder = os.path.join(current_directory, '..', 'data', 'Downloaded_Documents')"
   ]
  },
  {
   "cell_type": "code",
   "execution_count": 5,
   "metadata": {},
   "outputs": [
    {
     "name": "stdout",
     "output_type": "stream",
     "text": [
      "Content of the current folder: ['Downloaded_Documents', '.DS_Store', 'OCR_Required', 'documents.csv', 'doris_data_preprocessing.ipynb', 'OCR_Not_Required', 'doris_data_preprocessing.py']\n"
     ]
    }
   ],
   "source": [
    "def read_pdf(file_path):\n",
    "    text = \"\"\n",
    "    with pdfplumber.open(file_path) as pdf:\n",
    "        for page in pdf.pages:\n",
    "            text += page.extract_text()\n",
    "    return text\n",
    "\n",
    "print(\"Content of the current folder:\", os.listdir())"
   ]
  },
  {
   "cell_type": "code",
   "execution_count": 6,
   "metadata": {},
   "outputs": [
    {
     "name": "stdout",
     "output_type": "stream",
     "text": [
      "Loaded PDF files:\n",
      " - DORIS_Automated_speed_enforcement_program_report_nyc_government_publications.pdf\n",
      " - DORIS_Barnes_Dance_Study_nyc_government_publications.pdf\n",
      " - DORIS_Bike_Share_Usage_Data_Report_-_Q3_2017_nyc_government_publications.pdf\n",
      " - DORIS_Strategic_plan_2016_nyc_government_publications.pdf\n",
      " - DORIS_Brooklyn_Bridge_Promenade_Report_nyc_government_publications.pdf\n",
      " - DORIS_Bike_Share_Usage_Data_Report_-_Q2_2017_nyc_government_publications.pdf\n",
      " - DORIS_Accessible_Waterborne_Commuter_Services_nyc_government_publications.pdf\n",
      " - DORIS_Vision_Zero_Accomplishments_Report_nyc_government_publications.pdf\n",
      " - DORIS_Neighborhood_Slow_Zones_Report_nyc_government_publications.pdf\n",
      " - DORIS_Vision_Zero_Year_Four_Report_nyc_government_publications.pdf\n",
      " - DORIS_Coordinated_Street_Furniture_Franchise_Year_11_Update_nyc_government_publications.pdf\n",
      " - DORIS_Performance_Indicators_Report_nyc_government_publications.pdf\n",
      " - DORIS_Accessible_Water_Borne_Commuter_Services_Report_nyc_government_publications.pdf\n",
      " - DORIS_20_Highest_Crash_Location_Report_nyc_government_publications.pdf\n",
      " - DORIS_Electric_Vehicle_Advisory_Committee_Report_of_Recommendations_nyc_government_publications.pdf\n",
      " - DORIS_Vision_Zero_Year_Three_Report_nyc_government_publications.pdf\n",
      " - DORIS_Safer_Cycling,_Bicycle_Ridership_and_Safety_in_New_York_City_nyc_government_publications.pdf\n",
      " - DORIS_Bridge_and_Tunnel_Report_nyc_government_publications.pdf\n",
      " - DORIS_Springfield_Gardens_JFK_Transportation_Study_nyc_government_publications.pdf\n",
      "\n",
      "Total number of PDF files loaded: 19\n"
     ]
    }
   ],
   "source": [
    "pdf_files = [f for f in os.listdir(pdf_folder) if f.endswith('.pdf')]\n",
    "\n",
    "pdf_contents = []\n",
    "for pdf_file in pdf_files:\n",
    "    pdf_path = os.path.join(pdf_folder, pdf_file)\n",
    "    pdf_content = read_pdf(pdf_path)\n",
    "    pdf_contents.append(pdf_content)\n",
    "\n",
    "print(\"Loaded PDF files:\")\n",
    "for pdf_file in pdf_files:\n",
    "    print(f\" - {pdf_file}\")\n",
    "\n",
    "print(f\"\\nTotal number of PDF files loaded: {len(pdf_files)}\")"
   ]
  },
  {
   "cell_type": "code",
   "execution_count": 7,
   "metadata": {},
   "outputs": [],
   "source": [
    "def is_ocr_required(pdf_path):\n",
    "    with open(pdf_path, 'rb') as file:\n",
    "        reader = PdfReader(file)\n",
    "        num_pages = len(reader.pages)\n",
    "        for page_number in range(num_pages):\n",
    "            page = reader.pages[page_number]\n",
    "            text = page.extract_text()\n",
    "            if len(text.strip()) > 0:\n",
    "                return False  # OCR is not required\n",
    "    return True  # OCR is required"
   ]
  },
  {
   "cell_type": "code",
   "execution_count": 9,
   "metadata": {},
   "outputs": [],
   "source": [
    "pdf_folder = os.path.join(current_directory, '..', 'data', 'Downloaded_Documents')\n",
    "ocr_required_folder = os.path.join(current_directory, '..', 'data', 'OCR_Required')\n",
    "ocr_not_required_folder = os.path.join(current_directory, '..', 'data', 'OCR_Not_Required')"
   ]
  },
  {
   "cell_type": "code",
   "execution_count": 10,
   "metadata": {},
   "outputs": [],
   "source": [
    "os.makedirs(ocr_required_folder, exist_ok=True)\n",
    "os.makedirs(ocr_not_required_folder, exist_ok=True)"
   ]
  },
  {
   "cell_type": "code",
   "execution_count": 11,
   "metadata": {},
   "outputs": [
    {
     "name": "stdout",
     "output_type": "stream",
     "text": [
      "OCR is not required for DORIS_Automated_speed_enforcement_program_report_nyc_government_publications.pdf\n",
      "OCR is not required for DORIS_Barnes_Dance_Study_nyc_government_publications.pdf\n",
      "OCR is not required for DORIS_Bike_Share_Usage_Data_Report_-_Q3_2017_nyc_government_publications.pdf\n",
      "OCR is not required for DORIS_Strategic_plan_2016_nyc_government_publications.pdf\n",
      "OCR is not required for DORIS_Brooklyn_Bridge_Promenade_Report_nyc_government_publications.pdf\n",
      "OCR is not required for DORIS_Bike_Share_Usage_Data_Report_-_Q2_2017_nyc_government_publications.pdf\n",
      "OCR is required for DORIS_Accessible_Waterborne_Commuter_Services_nyc_government_publications.pdf\n",
      "OCR is not required for DORIS_Vision_Zero_Accomplishments_Report_nyc_government_publications.pdf\n",
      "OCR is not required for DORIS_Neighborhood_Slow_Zones_Report_nyc_government_publications.pdf\n",
      "OCR is not required for DORIS_Vision_Zero_Year_Four_Report_nyc_government_publications.pdf\n",
      "OCR is required for DORIS_Coordinated_Street_Furniture_Franchise_Year_11_Update_nyc_government_publications.pdf\n",
      "OCR is not required for DORIS_Performance_Indicators_Report_nyc_government_publications.pdf\n",
      "OCR is required for DORIS_Accessible_Water_Borne_Commuter_Services_Report_nyc_government_publications.pdf\n",
      "OCR is not required for DORIS_20_Highest_Crash_Location_Report_nyc_government_publications.pdf\n",
      "OCR is not required for DORIS_Electric_Vehicle_Advisory_Committee_Report_of_Recommendations_nyc_government_publications.pdf\n",
      "OCR is not required for DORIS_Vision_Zero_Year_Three_Report_nyc_government_publications.pdf\n",
      "OCR is not required for DORIS_Safer_Cycling,_Bicycle_Ridership_and_Safety_in_New_York_City_nyc_government_publications.pdf\n",
      "OCR is not required for DORIS_Bridge_and_Tunnel_Report_nyc_government_publications.pdf\n",
      "OCR is not required for DORIS_Springfield_Gardens_JFK_Transportation_Study_nyc_government_publications.pdf\n"
     ]
    }
   ],
   "source": [
    "pdf_files = [f for f in os.listdir(pdf_folder) if f.endswith('.pdf')]\n",
    "\n",
    "for pdf_file in pdf_files:\n",
    "    pdf_path = os.path.join(pdf_folder, pdf_file)\n",
    "    if is_ocr_required(pdf_path):\n",
    "        print(f\"OCR is required for {pdf_file}\")\n",
    "        shutil.move(pdf_path, os.path.join(ocr_required_folder, pdf_file))\n",
    "    else:\n",
    "        print(f\"OCR is not required for {pdf_file}\")\n",
    "        shutil.move(pdf_path, os.path.join(ocr_not_required_folder, pdf_file))"
   ]
  }
 ],
 "metadata": {
  "kernelspec": {
   "display_name": "venv",
   "language": "python",
   "name": "python3"
  },
  "language_info": {
   "codemirror_mode": {
    "name": "ipython",
    "version": 3
   },
   "file_extension": ".py",
   "mimetype": "text/x-python",
   "name": "python",
   "nbconvert_exporter": "python",
   "pygments_lexer": "ipython3",
   "version": "3.9.2"
  },
  "orig_nbformat": 4
 },
 "nbformat": 4,
 "nbformat_minor": 2
}
